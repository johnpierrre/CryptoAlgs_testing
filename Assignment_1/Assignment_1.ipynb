{
 "cells": [
  {
   "cell_type": "markdown",
   "metadata": {},
   "source": [
    "Imported libraries"
   ]
  },
  {
   "cell_type": "code",
   "execution_count": 530,
   "metadata": {},
   "outputs": [],
   "source": [
    "import random\n",
    "import string\n",
    "import os\n",
    "import matplotlib.pyplot as plt\n",
    "import numpy as np\n",
    "from cryptography.hazmat.primitives import hashes\n",
    "from timeit import default_timer as timer"
   ]
  },
  {
   "cell_type": "markdown",
   "metadata": {},
   "source": [
    "Generating a .txt file of a given size with random content"
   ]
  },
  {
   "cell_type": "code",
   "execution_count": 531,
   "metadata": {},
   "outputs": [],
   "source": [
    "def generate_random_files(byte_size):\n",
    "    return ''.join(random.choices(string.ascii_letters + string.digits + string.punctuation + ' ', k=byte_size))"
   ]
  },
  {
   "cell_type": "code",
   "execution_count": 532,
   "metadata": {},
   "outputs": [],
   "source": [
    "def write_to_file(directory, filename, byte_size):\n",
    "    if not os.path.exists(directory):\n",
    "        os.makedirs(directory)\n",
    "    \n",
    "    file_path = os.path.join(directory, filename)\n",
    "    random_text = generate_random_files(byte_size)\n",
    "\n",
    "    with open(file_path, 'w') as file:\n",
    "        file.write(random_text)"
   ]
  },
  {
   "cell_type": "markdown",
   "metadata": {},
   "source": [
    "Function that encrypts the file using SHA-256"
   ]
  },
  {
   "cell_type": "code",
   "execution_count": 533,
   "metadata": {},
   "outputs": [],
   "source": [
    "def compute_sha256(file_path):\n",
    "    digest = hashes.Hash(hashes.SHA256())\n",
    "    \n",
    "    with open(file_path, 'rb') as file:\n",
    "        data = file.read()\n",
    "\n",
    "    start = timer()\n",
    "    digest.update(data)\n",
    "    hashing = digest.finalize()\n",
    "    end = timer()\n",
    "\n",
    "    elapsed_time_us = (end - start) * 1000000  \n",
    "    return elapsed_time_us, hashing"
   ]
  },
  {
   "cell_type": "markdown",
   "metadata": {},
   "source": [
    "Storing the encrypted contents of each file"
   ]
  },
  {
   "cell_type": "code",
   "execution_count": 534,
   "metadata": {},
   "outputs": [
    {
     "data": {
      "text/plain": [
       "\" storing_directory = 'encrypted_files'\\n\\nif not os.path.exists(storing_directory):\\n    os.makedirs(storing_directory)\\n    file_path=os.path.join(storing_directory,filename)\\n\\n \""
      ]
     },
     "execution_count": 534,
     "metadata": {},
     "output_type": "execute_result"
    }
   ],
   "source": [
    "\"\"\" storing_directory = 'encrypted_files'\n",
    "\n",
    "if not os.path.exists(storing_directory):\n",
    "    os.makedirs(storing_directory)\n",
    "    file_path=os.path.join(storing_directory,filename)\n",
    "\n",
    " \"\"\""
   ]
  },
  {
   "cell_type": "markdown",
   "metadata": {},
   "source": [
    "Printing the results:"
   ]
  },
  {
   "cell_type": "markdown",
   "metadata": {},
   "source": [
    "Uses the filename to obtain the integer size"
   ]
  },
  {
   "cell_type": "code",
   "execution_count": 535,
   "metadata": {},
   "outputs": [],
   "source": [
    "def get_size(filename):\n",
    "    return int(filename.split('_')[-1].split('.')[0])"
   ]
  },
  {
   "cell_type": "markdown",
   "metadata": {},
   "source": [
    "Applies SHA_256 to a specfic file through its filename"
   ]
  },
  {
   "cell_type": "code",
   "execution_count": 536,
   "metadata": {},
   "outputs": [],
   "source": [
    "def file_time(filename, directory):\n",
    "    if filename.startswith(\"random_text_\") and filename.endswith(\".txt\"):\n",
    "        file_path = os.path.join(directory, filename)\n",
    "        time, _ = compute_sha256(file_path)\n",
    "        return time\n",
    "    return 0"
   ]
  },
  {
   "cell_type": "markdown",
   "metadata": {},
   "source": [
    "Calculates the average time of the procedure for a given number of iterations"
   ]
  },
  {
   "cell_type": "code",
   "execution_count": 537,
   "metadata": {},
   "outputs": [],
   "source": [
    "def avg_time(filename, iterations, directory):\n",
    "    sum_times = 0\n",
    "    for _ in range(iterations):\n",
    "        sum_times += file_time(filename, directory)\n",
    "    return sum_times / iterations if iterations > 0 else 0"
   ]
  },
  {
   "cell_type": "markdown",
   "metadata": {},
   "source": [
    "This function prints the average time for the encryption of n files with a specific size. The file used is always the same."
   ]
  },
  {
   "cell_type": "code",
   "execution_count": 538,
   "metadata": {},
   "outputs": [],
   "source": [
    "def print_times(directory, iterations=3000):\n",
    "    files = [f for f in os.listdir(directory) if f.startswith(\"random_text_\") and f.endswith(\".txt\")]\n",
    "    files.sort(key=lambda x: get_size(x))\n",
    "\n",
    "    for filename in files:\n",
    "        size = get_size(filename)\n",
    "        time = avg_time(filename, iterations, directory)\n",
    "        print(f'File: {filename}, Size: {size} bytes')\n",
    "        print(f'    Average time for encrypting: {time:.6f} µs\\n')"
   ]
  },
  {
   "cell_type": "markdown",
   "metadata": {},
   "source": [
    "Using the previous functions, this snippet of code calculates the average time for diferent files (not the same content) of the same size."
   ]
  },
  {
   "cell_type": "code",
   "execution_count": 539,
   "metadata": {},
   "outputs": [],
   "source": [
    "directory='random_files'\n",
    "sizes=[8, 64, 512, 4096, 32768, 262144, 2097152]\n",
    "\n",
    "for size in sizes:\n",
    "    filename = f'random_text_{size}.txt'\n",
    "    write_to_file(directory, filename, size)"
   ]
  },
  {
   "cell_type": "markdown",
   "metadata": {},
   "source": [
    "The next two functions keep track of the time spent per iteration when SHA is applied to the same file or different ones of same size"
   ]
  },
  {
   "cell_type": "code",
   "execution_count": null,
   "metadata": {},
   "outputs": [],
   "source": [
    "def collect_times_different_files(directory, sizes, iterations):\n",
    "    sha_times = []\n",
    "    for size in sizes:\n",
    "        filename = f'random_text_{size}.txt'\n",
    "        avg_time_taken = avg_time(filename, iterations, directory)\n",
    "        sha_times.append(avg_time_taken)\n",
    "    return sha_times\n",
    "\n",
    "def collect_times_same_file(directory, sizes, iterations):\n",
    "    sha_times = []\n",
    "    for size in sizes:\n",
    "        filename = f'random_text_{size}.txt'\n",
    "        file_path = os.path.join(directory, filename)\n",
    "        \n",
    "        if not os.path.exists(file_path):\n",
    "            write_to_file(directory, filename, size)\n",
    "\n",
    "        sum_times = 0\n",
    "        for _ in range(iterations):\n",
    "            time, _ = compute_sha256(file_path)\n",
    "            sum_times += time\n",
    "        sha_times.append(sum_times / iterations)\n",
    "    return sha_times"
   ]
  },
  {
   "cell_type": "markdown",
   "metadata": {},
   "source": [
    "Function that creates the graph"
   ]
  },
  {
   "cell_type": "code",
   "execution_count": null,
   "metadata": {},
   "outputs": [
    {
     "data": {
      "image/png": "[encoded data removed]",
      "text/plain": [
       "<Figure size 500x500 with 1 Axes>"
      ]
     },
     "metadata": {},
     "output_type": "display_data"
    }
   ],
   "source": [
    "def compare_variation(directory, sizes, iterations=100):\n",
    "    sha_times_different = collect_times_different_files(directory, sizes, iterations)\n",
    "    sha_times_same = collect_times_same_file(directory, sizes, iterations)\n",
    "\n",
    "    plt.figure(figsize=(5, 5))\n",
    "    plt.plot(sizes, sha_times_different, marker='o', linestyle='-', color='b', label=\"SHA (Different Files)\")\n",
    "    plt.plot(sizes, sha_times_same, marker='s', linestyle='--', color='r', label=\"SHA (Same File Repeated)\")\n",
    "\n",
    "    plt.xlabel(\"File Size (Bytes)\")\n",
    "    plt.ylabel(\"Time (Microseconds)\")\n",
    "    plt.title(\"SHA Digest Generation: Same vs Different Files\")\n",
    "    plt.xscale(\"log\")  # Use logarithmic scale for better visualization\n",
    "    plt.yscale(\"log\")\n",
    "    plt.legend()\n",
    "    plt.grid(True, linestyle='--', alpha=0.6)\n",
    "\n",
    "    plt.show()\n",
    "compare_variation(directory, sizes, iterations=100)"
   ]
  }
 ],
 "metadata": {
  "kernelspec": {
   "display_name": "Bibliotecas",
   "language": "python",
   "name": "python3"
  },
  "language_info": {
   "codemirror_mode": {
    "name": "ipython",
    "version": 3
   },
   "file_extension": ".py",
   "mimetype": "text/x-python",
   "name": "python",
   "nbconvert_exporter": "python",
   "pygments_lexer": "ipython3",
   "version": "3.11.9"
  }
 },
 "nbformat": 4,
 "nbformat_minor": 2
}
