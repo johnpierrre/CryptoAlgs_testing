{
 "cells": [
  {
   "cell_type": "code",
   "execution_count": null,
   "metadata": {},
   "outputs": [],
   "source": [
    "import random\n",
    "import string\n",
    "import os"
   ]
  },
  {
   "cell_type": "code",
   "execution_count": null,
   "metadata": {},
   "outputs": [],
   "source": [
    "def generate_random_files(byte_size):\n",
    "    random_text = ''.join(random.choices(string.ascii_letters + string.digits + string.punctuation + ' ', k=byte_size))\n",
    "    return random_text\n",
    "def write_to_file(directory,filename, byte_size):\n",
    "    \n",
    "    file_path=os.path.join(directory,filename)\n",
    "\n",
    "    random_text=generate_random_files(byte_size)\n",
    "\n",
    "    with open(file_path,'w') as file:\n",
    "        file.write(random_text)\n",
    "\n",
    "    print(f'File \"{filename}\" with size {byte_size} bytes has been generated.')\n",
    "\n",
    "sizes=[8, 64, 512, 4096, 32768, 262144, 2097152]\n",
    "\n",
    "directory='random_files'\n",
    "\n",
    "for size in sizes:\n",
    "    filename = f'random_text_{size}.txt'\n",
    "    write_to_file(directory,filename,size)\n",
    "\n"
   ]
  }
 ],
 "metadata": {
  "kernelspec": {
   "display_name": "py_env",
   "language": "python",
   "name": "python3"
  },
  "language_info": {
   "codemirror_mode": {
    "name": "ipython",
    "version": 3
   },
   "file_extension": ".py",
   "mimetype": "text/x-python",
   "name": "python",
   "nbconvert_exporter": "python",
   "pygments_lexer": "ipython3",
   "version": "3.13.2"
  }
 },
 "nbformat": 4,
 "nbformat_minor": 2
}
