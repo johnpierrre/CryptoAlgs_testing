{
 "cells": [
  {
   "cell_type": "markdown",
   "metadata": {},
   "source": [
    "Imported libraries"
   ]
  },
  {
   "cell_type": "code",
   "execution_count": 321,
   "metadata": {},
   "outputs": [],
   "source": [
    "import random\n",
    "import string\n",
    "import os\n",
    "from cryptography.hazmat.primitives import hashes\n",
    "from timeit import default_timer as timer"
   ]
  },
  {
   "cell_type": "markdown",
   "metadata": {},
   "source": [
    "Generating a .txt file of a given size with random content"
   ]
  },
  {
   "cell_type": "code",
   "execution_count": 322,
   "metadata": {},
   "outputs": [],
   "source": [
    "def generate_random_files(byte_size):\n",
    "    random_text = ''.join(random.choices(string.ascii_letters + string.digits + string.punctuation + ' ', k=byte_size))\n",
    "    return random_text"
   ]
  },
  {
   "cell_type": "code",
   "execution_count": 323,
   "metadata": {},
   "outputs": [],
   "source": [
    "def write_to_file(directory,filename, byte_size):\n",
    "    \n",
    "    if not os.path.exists(directory):\n",
    "        os.makedirs(directory)\n",
    "\n",
    "    file_path=os.path.join(directory,filename)\n",
    "\n",
    "    random_text=generate_random_files(byte_size)\n",
    "\n",
    "    with open(file_path,'w') as file:\n",
    "        file.write(random_text)\n",
    "\n",
    "\n",
    "sizes=[8, 64, 512, 4096, 32768, 262144, 2097152]\n",
    "\n",
    "directory='random_files'\n",
    "\n",
    "for size in sizes:\n",
    "    filename = f'random_text_{size}.txt'\n",
    "    write_to_file(directory,filename,size)\n",
    "\n"
   ]
  },
  {
   "cell_type": "markdown",
   "metadata": {},
   "source": [
    "Function that encrypts the file using SHA-256"
   ]
  },
  {
   "cell_type": "code",
   "execution_count": 324,
   "metadata": {},
   "outputs": [],
   "source": [
    "def compute_sha256(file_path, size):\n",
    "\n",
    "    digest = hashes.Hash(hashes.SHA256())\n",
    "    \n",
    "    with open(file_path, 'rb') as file: \n",
    "        data = file.read()\n",
    "\n",
    "    start = timer()\n",
    "\n",
    "    digest.update(data)\n",
    "    hashing=digest.finalize()\n",
    "\n",
    "    end=timer()\n",
    "\n",
    "    \n",
    "\n",
    "    elapsed_time_sec = end - start\n",
    "    elapsed_time_ms = elapsed_time_sec * 1000\n",
    "\n",
    "    return elapsed_time_ms,hashing\n"
   ]
  },
  {
   "cell_type": "markdown",
   "metadata": {},
   "source": [
    "Storing the encrypted contents of each file"
   ]
  },
  {
   "cell_type": "code",
   "execution_count": 325,
   "metadata": {},
   "outputs": [
    {
     "data": {
      "text/plain": [
       "\" storing_directory = 'encrypted_files'\\n\\nif not os.path.exists(storing_directory):\\n    os.makedirs(storing_directory)\\n    file_path=os.path.join(storing_directory,filename)\\n\\n \""
      ]
     },
     "execution_count": 325,
     "metadata": {},
     "output_type": "execute_result"
    }
   ],
   "source": [
    "\"\"\" storing_directory = 'encrypted_files'\n",
    "\n",
    "if not os.path.exists(storing_directory):\n",
    "    os.makedirs(storing_directory)\n",
    "    file_path=os.path.join(storing_directory,filename)\n",
    "\n",
    " \"\"\""
   ]
  },
  {
   "cell_type": "markdown",
   "metadata": {},
   "source": [
    "Printing the results:"
   ]
  },
  {
   "cell_type": "markdown",
   "metadata": {},
   "source": [
    "Uses the filename to obtain the integer size"
   ]
  },
  {
   "cell_type": "code",
   "execution_count": 326,
   "metadata": {},
   "outputs": [],
   "source": [
    "def get_size(filename):\n",
    "    return int(filename.split('_')[-1].split('.')[0])  "
   ]
  },
  {
   "cell_type": "markdown",
   "metadata": {},
   "source": [
    "Applies SHA_256 to a specfic file through its filename"
   ]
  },
  {
   "cell_type": "code",
   "execution_count": 327,
   "metadata": {},
   "outputs": [],
   "source": [
    "def file_time(filename):   \n",
    "    if filename.startswith(\"random_text_\") and filename.endswith(\".txt\"):  \n",
    "        file_path = os.path.join(directory, filename)  \n",
    "\n",
    "        size = get_size(filename)\n",
    "\n",
    "        time, _ = compute_sha256(file_path, size)  \n",
    "        \n",
    "    \"\"\" filename=f'encrypted_text_{size}.txt'\n",
    "        file_path=os.path.join(storing_directory,filename)\n",
    "        with open(file_path,'w') as file:\n",
    "            file.write(hash_value) \"\"\"\n",
    "\n",
    "    return time"
   ]
  },
  {
   "cell_type": "markdown",
   "metadata": {},
   "source": [
    "Calculates the average time of the procedure for a given number of iterations"
   ]
  },
  {
   "cell_type": "code",
   "execution_count": 328,
   "metadata": {},
   "outputs": [],
   "source": [
    "def avg_time(filename, iterations):\n",
    "    sum_times=0\n",
    "    for _ in range(iterations):\n",
    "        sum_times+=file_time(filename)\n",
    "    return sum_times/iterations if iterations > 0 else 0"
   ]
  },
  {
   "cell_type": "code",
   "execution_count": null,
   "metadata": {},
   "outputs": [
    {
     "name": "stdout",
     "output_type": "stream",
     "text": [
      "File: random_text_8.txt, Size: 8 bytes\n",
      "    Average time for encrypting: 0.000668\n",
      "\n",
      "\n",
      "File: random_text_64.txt, Size: 64 bytes\n",
      "    Average time for encrypting: 0.000640\n",
      "\n",
      "\n",
      "File: random_text_512.txt, Size: 512 bytes\n",
      "    Average time for encrypting: 0.000738\n",
      "\n",
      "\n",
      "File: random_text_4096.txt, Size: 4096 bytes\n",
      "    Average time for encrypting: 0.001921\n",
      "\n",
      "\n",
      "File: random_text_32768.txt, Size: 32768 bytes\n",
      "    Average time for encrypting: 0.011405\n",
      "\n",
      "\n",
      "File: random_text_262144.txt, Size: 262144 bytes\n",
      "    Average time for encrypting: 0.086496\n",
      "\n",
      "\n",
      "File: random_text_2097152.txt, Size: 2097152 bytes\n",
      "    Average time for encrypting: 0.690335\n",
      "\n",
      "\n"
     ]
    }
   ],
   "source": [
    "def print_times(iterations):\n",
    "        files = [f for f in os.listdir(directory) if f.startswith(\"random_text_\") and f.endswith(\".txt\")]\n",
    "        files.sort(key=lambda x: int(x.split('_')[-1].split('.')[0]))  \n",
    "\n",
    "        for filename in files:\n",
    "                size=get_size(filename)\n",
    "                time=avg_time(filename,iterations)\n",
    "                print(f'File: {filename}, Size: {size} bytes')\n",
    "                print(f'    Average time for encrypting: {time:.6f}')\n",
    "                print('\\n')\n",
    "                \n",
    "print_times(1000)"
   ]
  },
  {
   "cell_type": "code",
   "execution_count": 330,
   "metadata": {},
   "outputs": [
    {
     "name": "stdout",
     "output_type": "stream",
     "text": [
      "File: random_text_8.txt, Size: 8 bytes\n",
      "    Average time for encrypting: 0.000141\n",
      "\n",
      "\n",
      "File: random_text_64.txt, Size: 64 bytes\n",
      "    Average time for encrypting: 0.000101\n",
      "\n",
      "\n",
      "File: random_text_512.txt, Size: 512 bytes\n",
      "    Average time for encrypting: 0.000099\n",
      "\n",
      "\n",
      "File: random_text_4096.txt, Size: 4096 bytes\n",
      "    Average time for encrypting: 0.000226\n",
      "\n",
      "\n",
      "File: random_text_32768.txt, Size: 32768 bytes\n",
      "    Average time for encrypting: 0.001307\n",
      "\n",
      "\n",
      "File: random_text_262144.txt, Size: 262144 bytes\n",
      "    Average time for encrypting: 0.009720\n",
      "\n",
      "\n",
      "File: random_text_2097152.txt, Size: 2097152 bytes\n",
      "    Average time for encrypting: 0.072866\n",
      "\n",
      "\n"
     ]
    }
   ],
   "source": [
    "directory='random_files'\n",
    "sizes=[8, 64, 512, 4096, 32768, 262144, 2097152]\n",
    "\n",
    "for size in sizes:\n",
    "    sum_times=0\n",
    "    for i in range(100):\n",
    "        filename = f'random_text_{size}.txt'\n",
    "        write_to_file(directory,filename,size)\n",
    "        \n",
    "        sum_times+=avg_time(filename,1)\n",
    "    time=sum_times/1000\n",
    "    print(f'File: {filename}, Size: {size} bytes')\n",
    "    print(f'    Average time for encrypting: {time:.6f}')\n",
    "    print('\\n')"
   ]
  }
 ],
 "metadata": {
  "kernelspec": {
   "display_name": "Bibliotecas",
   "language": "python",
   "name": "python3"
  },
  "language_info": {
   "codemirror_mode": {
    "name": "ipython",
    "version": 3
   },
   "file_extension": ".py",
   "mimetype": "text/x-python",
   "name": "python",
   "nbconvert_exporter": "python",
   "pygments_lexer": "ipython3",
   "version": "3.11.9"
  }
 },
 "nbformat": 4,
 "nbformat_minor": 2
}
